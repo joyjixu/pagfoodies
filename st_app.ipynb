{
 "cells": [
  {
   "cell_type": "code",
   "execution_count": null,
   "metadata": {},
   "outputs": [],
   "source": [
    "import streamlit as st\n",
    "import pandas as pd\n",
    "import numpy as np\n",
    "import datetime\n",
    "\n",
    "import plotly.graph_objects as go\n",
    "import plotly.express as px\n",
    "import matplotlib.pyplot as plt\n",
    "\n",
    "import http.client\n",
    "import urllib.parse\n",
    "import os\n",
    "import requests\n",
    "import json\n"
   ]
  },
  {
   "cell_type": "code",
   "execution_count": null,
   "metadata": {},
   "outputs": [],
   "source": [
    "access_token = \"pk.eyJ1Ijoiam95eHUiLCJhIjoiY2w4NXlkMmFzMHBnZTQxcXRtaXdqb2FmOCJ9.fmZUE9d1q1VmedH00fCoLA\"\n",
    "data_path = \"/u1/joyxu/pet_projects/pag-foodies/data/foodie-data.csv\"\n",
    "reviews_path = \"/u1/joyxu/pet_projects/pag-foodies/data/reviews.csv\""
   ]
  },
  {
   "cell_type": "code",
   "execution_count": null,
   "metadata": {},
   "outputs": [],
   "source": [
    "geocoding_token = \"3d111c9b7312aae9282e1af8152009ba\"\n",
    "os.environ[\"http_proxy\"] = \"http://httpproxy.blackrock.com:8080/\"\n",
    "os.environ[\"https_proxy\"] = \"https://httpsproxy.blackrock.com:8080/\""
   ]
  },
  {
   "cell_type": "code",
   "execution_count": null,
   "metadata": {},
   "outputs": [],
   "source": [
    "#data = pd.read_excel(data_path,engine='openpyxl')\n",
    "if 'data' not in st.session_state:\n",
    "    st.session_state.data = pd.read_csv(data_path)\n",
    "if 'reviews' not in st.session_state:\n",
    "    st.session_state.reviews = pd.read_csv(reviews_path)"
   ]
  },
  {
   "cell_type": "code",
   "execution_count": null,
   "metadata": {},
   "outputs": [],
   "source": [
    "def format_type(food_type: str):\n",
    "    types_dict = {\n",
    "        \"lunch\" : \"Lunch\",\n",
    "        \"coffee\" : \"Coffee\",\n",
    "        \"pastries\" :  \"Pastries\",\n",
    "        \"drinks\" : \"Drinks\"\n",
    "    }\n",
    "    \n",
    "    return types_dict[food_type]\n",
    "\n",
    "def encode_types(food_types: list):\n",
    "    lst = [0] * (len(st.session_state.data.columns) - 4) # minus lat, long, coords and name\n",
    "    type_to_idx = {\n",
    "        \"lunch\" : 0,\n",
    "        \"coffee\" : 1,\n",
    "        \"pastries\" :  2,\n",
    "        \"drinks\" : 3\n",
    "    }\n",
    "    \n",
    "    for food_type in food_types:\n",
    "        lst[type_to_idx[food_type]] = 1\n",
    "        \n",
    "    return lst"
   ]
  },
  {
   "cell_type": "code",
   "execution_count": null,
   "metadata": {},
   "outputs": [],
   "source": [
    "st.title(\"Joy's Foodie Guide to BlackRock 🍱\")\n",
    "st.write(\"For the days when you don't know where to go!\")"
   ]
  },
  {
   "cell_type": "code",
   "execution_count": null,
   "metadata": {},
   "outputs": [],
   "source": [
    "refresh = st.button('Refresh data')\n",
    "if refresh:\n",
    "    st.session_state.data = pd.read_csv(data_path)\n",
    "    st.session_state.reviews = pd.read_csv(reviews_path)"
   ]
  },
  {
   "cell_type": "code",
   "execution_count": null,
   "metadata": {},
   "outputs": [],
   "source": [
    "# daily rec"
   ]
  },
  {
   "cell_type": "code",
   "execution_count": null,
   "metadata": {},
   "outputs": [],
   "source": [
    "# surprise me\n",
    "surprise = st.button('Surprise me!')\n",
    "if surprise:\n",
    "        n = np.random.randint(len(st.session_state.data))\n",
    "        st.write(\"Go to... \" + st.session_state.data.iloc[n][\"name\"])"
   ]
  },
  {
   "cell_type": "code",
   "execution_count": null,
   "metadata": {},
   "outputs": [],
   "source": [
    "# gimme a place\n",
    "st.header(\"Give me a place for...\")\n",
    "\n",
    "occasions = st.session_state.data.drop(['name','coordinates','longitude','latitude'], axis=1).columns\n",
    "occasion = st.selectbox(\"Choose an occasion\", list(occasions), format_func=format_type)\n",
    "options = st.session_state.data[st.session_state.data[occasion]==1]\n",
    "st.write(\"Here are some options for {}\".format(occasion))\n",
    "show_options = options[\"name\"].tolist()\n",
    "for i in show_options:\n",
    "    st.markdown(\"- \" + i)"
   ]
  },
  {
   "cell_type": "code",
   "execution_count": null,
   "metadata": {},
   "outputs": [],
   "source": [
    "# show reviews\n",
    "st.header(\"Reviews ⭐\")\n",
    "\n",
    "place = st.selectbox(\"Show reviews for...\", st.session_state.data['name'])\n",
    "selected_reviews = st.session_state.reviews.loc[st.session_state.reviews['name']==place]\n",
    "if selected_reviews.empty:\n",
    "    st.write(\"No reviews to show! Why don't you add one below? :)\")\n",
    "else:\n",
    "    st.write(selected_reviews)"
   ]
  },
  {
   "cell_type": "code",
   "execution_count": null,
   "metadata": {},
   "outputs": [],
   "source": [
    "# map\n",
    "st.header(\"Map 📌\")\n",
    "\n",
    "px.set_mapbox_access_token(access_token)\n",
    "fig = px.scatter_mapbox(st.session_state.data, lat=\"latitude\", lon=\"longitude\",color=\"name\",\n",
    "                  color_continuous_scale=px.colors.cyclical.IceFire, size_max=20,zoom=12)\n",
    "st.write(fig)"
   ]
  },
  {
   "cell_type": "code",
   "execution_count": null,
   "metadata": {},
   "outputs": [],
   "source": [
    "# add your recs (form)\n",
    "\n",
    "with st.form(\"recs\", clear_on_submit = True):\n",
    "    st.header(\"Give a recommendation 💯\")\n",
    "    name = st.text_input(\"Name\")\n",
    "    search = st.text_input(\"Enter your address\")\n",
    "    st.caption(\"Please write the address in the following format: 100 Middlesex St, London E1 7EZ\")\n",
    "    # st.caption(\"Find the coordinates of the address [here](https://www.latlong.net/).\")\n",
    "    # lat = st.number_input(\"Latitude\", step=1e-7, format=\"%.6f\")\n",
    "    # long = st.number_input(\"Longitude\", step=1e-7, format=\"%.6f\")\n",
    "    occ = st.multiselect(\"Good for...\", ['lunch','coffee','pastries','drinks'], format_func=format_type)\n",
    "    submit = st.form_submit_button(\"Submit\")\n",
    "    \n",
    "    if submit:\n",
    "        conn = http.client.HTTPConnection('api.positionstack.com')\n",
    "\n",
    "        params = urllib.parse.urlencode({\n",
    "            'access_key': geocoding_token,\n",
    "            'query': search,\n",
    "            'country': 'GB',\n",
    "            'region': 'London',\n",
    "            'limit': 1,\n",
    "            })\n",
    "\n",
    "        r = requests.get('http://api.positionstack.com/v1/forward?{}'.format(params), \n",
    "                         proxies={\"http\": \"http://httpproxy.blackrock.com:8080/\"})\n",
    "\n",
    "        st.session_state.res = json.loads(r.text)\n",
    "\n",
    "if 'res' in st.session_state:\n",
    "    res_lat = st.session_state.res['data'][0]['latitude']\n",
    "    res_long = st.session_state.res['data'][0]['longitude']\n",
    "    res_neighbourhood = st.session_state.res['data'][0]['neighbourhood']\n",
    "    res_adr = st.session_state.res['data'][0]['label']\n",
    "    coords = (res_lat,res_long)\n",
    "\n",
    "    st.write(f\"Neighbourhood: {res_neighbourhood}\")\n",
    "    st.write(f\"Address: {res_adr}\")\n",
    "    st.write(f\"Coordinates: {coords}\")\n",
    "\n",
    "    correct = st.checkbox(\"This is correct\", )\n",
    "    incorrect = st.checkbox(\"Manually edit coordinates\", )\n",
    "    if correct:\n",
    "        one_hot_lst = encode_types(occ)\n",
    "        st.session_state.data.loc[len(st.session_state.data.index)] = [name,res_lat,res_long,coords] +  one_hot_lst\n",
    "        st.session_state.data = st.session_state.data.drop_duplicates(subset=\"coordinates\")\n",
    "        st.session_state.data.to_csv(data_path, index=False)\n",
    "        st.write(\"Thank you for the recommendation!\")\n",
    "        \n",
    "    if incorrect:\n",
    "        with st.form(\"change\", clear_on_submit = False):\n",
    "            st.caption(\"Find the coordinates of the address [here](https://www.latlong.net/).\")\n",
    "\n",
    "            lat = st.number_input(\"Latitude\", step=1e-7, format=\"%.6f\", value=res_lat)\n",
    "            long = st.number_input(\"Longitude\", step=1e-7, format=\"%.6f\", value=res_long)\n",
    "            coords = (lat,long)\n",
    "\n",
    "            edit = st.form_submit_button(\"Submit edits\")\n",
    "        if edit:\n",
    "            one_hot_lst = encode_types(occ)\n",
    "            st.session_state.data.loc[len(st.session_state.data.index)] = [name,lat,long,coords] +  one_hot_lst\n",
    "            st.session_state.data = st.session_state.data.drop_duplicates(subset=\"coordinates\")\n",
    "            st.session_state.data.to_csv(data_path, index=False)\n",
    "            st.write(\"Thank you for the recommendation!\")"
   ]
  },
  {
   "cell_type": "code",
   "execution_count": null,
   "metadata": {},
   "outputs": [],
   "source": [
    "# add a review\n",
    "with st.form(\"review\", clear_on_submit = True):\n",
    "    st.header(\"Review a place 📎\")\n",
    "    place = st.selectbox(\"Choose a place to review\", st.session_state.data['name'])\n",
    "    review = st.text_area(\"Your review: \")\n",
    "    submit_review = st.form_submit_button(\"Submit\")\n",
    "    \n",
    "if submit_review:\n",
    "    st.session_state.reviews.loc[len(st.session_state.reviews.index)] = [place, review] \n",
    "        \n",
    "    st.session_state.reviews.to_csv(reviews_path, index=False)\n",
    "    st.write(\"Thank you for the review!\")"
   ]
  },
  {
   "cell_type": "code",
   "execution_count": null,
   "metadata": {},
   "outputs": [],
   "source": [
    "# delete a place\n",
    "with st.form(\"delete\", clear_on_submit = True):\n",
    "    st.header(\"Delete a place 📎\")\n",
    "    place = st.selectbox(\"Choose a place to delete\", st.session_state.data['name'])\n",
    "    submit_delete = st.form_submit_button(\"Submit\")"
   ]
  }
 ],
 "metadata": {
  "kernelspec": {
   "display_name": "Python [conda env:jupyter-python] *",
   "language": "python",
   "name": "conda-env-jupyter-python-py"
  },
  "language_info": {
   "codemirror_mode": {
    "name": "ipython",
    "version": 3
   },
   "file_extension": ".py",
   "mimetype": "text/x-python",
   "name": "python",
   "nbconvert_exporter": "python",
   "pygments_lexer": "ipython3",
   "version": "3.6.11"
  }
 },
 "nbformat": 4,
 "nbformat_minor": 4
}
